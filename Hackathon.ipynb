{
 "cells": [
  {
   "cell_type": "markdown",
   "metadata": {},
   "source": [
    "# Hackathon"
   ]
  },
  {
   "cell_type": "markdown",
   "metadata": {},
   "source": [
    "## Input"
   ]
  },
  {
   "cell_type": "code",
   "execution_count": 1,
   "metadata": {},
   "outputs": [],
   "source": [
    "import pandas as pd"
   ]
  },
  {
   "cell_type": "code",
   "execution_count": 2,
   "metadata": {},
   "outputs": [],
   "source": [
    "def getProblemData(path):\n",
    "    dict_problem = dict()\n",
    "    dict_flights = dict()\n",
    "    dict_arc = dict()\n",
    "    \n",
    "    dict_flights[\"v\"] = []\n",
    "    dict_flights[\"c\"] = []\n",
    "    \n",
    "    dict_arc[\"a\"] = []\n",
    "    dict_arc[\"o\"] = []\n",
    "    dict_arc[\"d\"] = []\n",
    "    dict_arc[\"t\"] = []\n",
    "    dict_arc[\"n\"] = []\n",
    "\n",
    "    with open(path, \"r\") as infile:\n",
    "        for i, line in enumerate(infile):\n",
    "            if i==0:\n",
    "\n",
    "                list_element = line.split(\" \")\n",
    "                \n",
    "                dict_problem[\"V\"] = int(list_element[1])\n",
    "                dict_problem[\"A\"] = int(list_element[3])\n",
    "                dict_problem[\"P\"] = int(list_element[5])\n",
    "                dict_problem[\"B\"] = int(list_element[7])\n",
    "                dict_problem[\"K\"] = int(list_element[9])\n",
    "                dict_problem[\"G\"] = int(list_element[11])\n",
    "                \n",
    "            else:\n",
    "                \n",
    "                \n",
    "                \n",
    "                if line.find(\"v\") != -1:\n",
    "                    list_element = line.split(\" \")\n",
    "                    dict_flights[\"v\"] += [int(list_element[1]) - 1] \n",
    "                    dict_flights[\"c\"] += [[int(el) for el in list_element[3::]]]\n",
    "\n",
    "                elif line.find(\"a\") != -1:\n",
    "                    list_element = line.split(\" \")\n",
    "                    dict_arc[\"a\"] += [int(list_element[1]) - 1]\n",
    "                    dict_arc[\"o\"] += [int(list_element[3]) - 1]\n",
    "                    dict_arc[\"d\"] += [int(list_element[5]) - 1]\n",
    "                    dict_arc[\"t\"] += [int(list_element[7])]\n",
    "                    dict_arc[\"n\"] += [int(list_element[9])]\n",
    "                    \n",
    "    df_flights = pd.DataFrame(dict_flights, index = dict_flights[\"v\"])\n",
    "    df_arc = pd.DataFrame(dict_arc, index = dict_arc[\"a\"])\n",
    "    \n",
    "    return dict_problem, df_flights, df_arc"
   ]
  },
  {
   "cell_type": "code",
   "execution_count": 69,
   "metadata": {},
   "outputs": [],
   "source": [
    "instance = \"S\""
   ]
  },
  {
   "cell_type": "code",
   "execution_count": 70,
   "metadata": {},
   "outputs": [],
   "source": [
    "dict_problem, df_flight, df_arc = getProblemData(\"instance_\"+instance+\".in\")"
   ]
  },
  {
   "cell_type": "code",
   "execution_count": 71,
   "metadata": {},
   "outputs": [
    {
     "data": {
      "text/html": [
       "<div>\n",
       "<style scoped>\n",
       "    .dataframe tbody tr th:only-of-type {\n",
       "        vertical-align: middle;\n",
       "    }\n",
       "\n",
       "    .dataframe tbody tr th {\n",
       "        vertical-align: top;\n",
       "    }\n",
       "\n",
       "    .dataframe thead th {\n",
       "        text-align: right;\n",
       "    }\n",
       "</style>\n",
       "<table border=\"1\" class=\"dataframe\">\n",
       "  <thead>\n",
       "    <tr style=\"text-align: right;\">\n",
       "      <th></th>\n",
       "      <th>c</th>\n",
       "      <th>v</th>\n",
       "    </tr>\n",
       "  </thead>\n",
       "  <tbody>\n",
       "    <tr>\n",
       "      <th>0</th>\n",
       "      <td>[12, 15, 10]</td>\n",
       "      <td>0</td>\n",
       "    </tr>\n",
       "    <tr>\n",
       "      <th>1</th>\n",
       "      <td>[8, 9, 10]</td>\n",
       "      <td>1</td>\n",
       "    </tr>\n",
       "    <tr>\n",
       "      <th>2</th>\n",
       "      <td>[5, 6, 7]</td>\n",
       "      <td>2</td>\n",
       "    </tr>\n",
       "    <tr>\n",
       "      <th>3</th>\n",
       "      <td>[2, 3, 4]</td>\n",
       "      <td>3</td>\n",
       "    </tr>\n",
       "    <tr>\n",
       "      <th>4</th>\n",
       "      <td>[4, 5, 6]</td>\n",
       "      <td>4</td>\n",
       "    </tr>\n",
       "  </tbody>\n",
       "</table>\n",
       "</div>"
      ],
      "text/plain": [
       "              c  v\n",
       "0  [12, 15, 10]  0\n",
       "1    [8, 9, 10]  1\n",
       "2     [5, 6, 7]  2\n",
       "3     [2, 3, 4]  3\n",
       "4     [4, 5, 6]  4"
      ]
     },
     "execution_count": 71,
     "metadata": {},
     "output_type": "execute_result"
    }
   ],
   "source": [
    "df_flight.head()"
   ]
  },
  {
   "cell_type": "code",
   "execution_count": 72,
   "metadata": {},
   "outputs": [
    {
     "data": {
      "text/html": [
       "<div>\n",
       "<style scoped>\n",
       "    .dataframe tbody tr th:only-of-type {\n",
       "        vertical-align: middle;\n",
       "    }\n",
       "\n",
       "    .dataframe tbody tr th {\n",
       "        vertical-align: top;\n",
       "    }\n",
       "\n",
       "    .dataframe thead th {\n",
       "        text-align: right;\n",
       "    }\n",
       "</style>\n",
       "<table border=\"1\" class=\"dataframe\">\n",
       "  <thead>\n",
       "    <tr style=\"text-align: right;\">\n",
       "      <th></th>\n",
       "      <th>a</th>\n",
       "      <th>d</th>\n",
       "      <th>n</th>\n",
       "      <th>o</th>\n",
       "      <th>t</th>\n",
       "    </tr>\n",
       "  </thead>\n",
       "  <tbody>\n",
       "    <tr>\n",
       "      <th>0</th>\n",
       "      <td>0</td>\n",
       "      <td>2</td>\n",
       "      <td>5</td>\n",
       "      <td>0</td>\n",
       "      <td>1</td>\n",
       "    </tr>\n",
       "    <tr>\n",
       "      <th>1</th>\n",
       "      <td>1</td>\n",
       "      <td>3</td>\n",
       "      <td>1</td>\n",
       "      <td>0</td>\n",
       "      <td>1</td>\n",
       "    </tr>\n",
       "    <tr>\n",
       "      <th>2</th>\n",
       "      <td>2</td>\n",
       "      <td>2</td>\n",
       "      <td>4</td>\n",
       "      <td>1</td>\n",
       "      <td>1</td>\n",
       "    </tr>\n",
       "    <tr>\n",
       "      <th>3</th>\n",
       "      <td>3</td>\n",
       "      <td>3</td>\n",
       "      <td>0</td>\n",
       "      <td>1</td>\n",
       "      <td>0</td>\n",
       "    </tr>\n",
       "    <tr>\n",
       "      <th>4</th>\n",
       "      <td>4</td>\n",
       "      <td>5</td>\n",
       "      <td>3</td>\n",
       "      <td>4</td>\n",
       "      <td>1</td>\n",
       "    </tr>\n",
       "  </tbody>\n",
       "</table>\n",
       "</div>"
      ],
      "text/plain": [
       "   a  d  n  o  t\n",
       "0  0  2  5  0  1\n",
       "1  1  3  1  0  1\n",
       "2  2  2  4  1  1\n",
       "3  3  3  0  1  0\n",
       "4  4  5  3  4  1"
      ]
     },
     "execution_count": 72,
     "metadata": {},
     "output_type": "execute_result"
    }
   ],
   "source": [
    "df_arc.head()"
   ]
  },
  {
   "cell_type": "code",
   "execution_count": 73,
   "metadata": {},
   "outputs": [],
   "source": [
    "P = dict_problem['P']\n",
    "\n",
    "for p in range(P):\n",
    "    df_flight[\"C_P\"+str(p)] = df_flight.apply(lambda x : x.c[p], axis=1)\n"
   ]
  },
  {
   "cell_type": "code",
   "execution_count": 74,
   "metadata": {},
   "outputs": [
    {
     "name": "stdout",
     "output_type": "stream",
     "text": [
      "{'A': 8, 'B': 5000, 'G': 1000, 'K': 5, 'P': 3, 'V': 7}\n"
     ]
    },
    {
     "data": {
      "text/html": [
       "<div>\n",
       "<style scoped>\n",
       "    .dataframe tbody tr th:only-of-type {\n",
       "        vertical-align: middle;\n",
       "    }\n",
       "\n",
       "    .dataframe tbody tr th {\n",
       "        vertical-align: top;\n",
       "    }\n",
       "\n",
       "    .dataframe thead th {\n",
       "        text-align: right;\n",
       "    }\n",
       "</style>\n",
       "<table border=\"1\" class=\"dataframe\">\n",
       "  <thead>\n",
       "    <tr style=\"text-align: right;\">\n",
       "      <th></th>\n",
       "      <th>c</th>\n",
       "      <th>v</th>\n",
       "      <th>C_P0</th>\n",
       "      <th>C_P1</th>\n",
       "      <th>C_P2</th>\n",
       "    </tr>\n",
       "  </thead>\n",
       "  <tbody>\n",
       "    <tr>\n",
       "      <th>0</th>\n",
       "      <td>[12, 15, 10]</td>\n",
       "      <td>0</td>\n",
       "      <td>12</td>\n",
       "      <td>15</td>\n",
       "      <td>10</td>\n",
       "    </tr>\n",
       "    <tr>\n",
       "      <th>1</th>\n",
       "      <td>[8, 9, 10]</td>\n",
       "      <td>1</td>\n",
       "      <td>8</td>\n",
       "      <td>9</td>\n",
       "      <td>10</td>\n",
       "    </tr>\n",
       "    <tr>\n",
       "      <th>2</th>\n",
       "      <td>[5, 6, 7]</td>\n",
       "      <td>2</td>\n",
       "      <td>5</td>\n",
       "      <td>6</td>\n",
       "      <td>7</td>\n",
       "    </tr>\n",
       "    <tr>\n",
       "      <th>3</th>\n",
       "      <td>[2, 3, 4]</td>\n",
       "      <td>3</td>\n",
       "      <td>2</td>\n",
       "      <td>3</td>\n",
       "      <td>4</td>\n",
       "    </tr>\n",
       "    <tr>\n",
       "      <th>4</th>\n",
       "      <td>[4, 5, 6]</td>\n",
       "      <td>4</td>\n",
       "      <td>4</td>\n",
       "      <td>5</td>\n",
       "      <td>6</td>\n",
       "    </tr>\n",
       "    <tr>\n",
       "      <th>5</th>\n",
       "      <td>[7, 8, 9]</td>\n",
       "      <td>5</td>\n",
       "      <td>7</td>\n",
       "      <td>8</td>\n",
       "      <td>9</td>\n",
       "    </tr>\n",
       "    <tr>\n",
       "      <th>6</th>\n",
       "      <td>[1, 3, 2]</td>\n",
       "      <td>6</td>\n",
       "      <td>1</td>\n",
       "      <td>3</td>\n",
       "      <td>2</td>\n",
       "    </tr>\n",
       "  </tbody>\n",
       "</table>\n",
       "</div>"
      ],
      "text/plain": [
       "              c  v  C_P0  C_P1  C_P2\n",
       "0  [12, 15, 10]  0    12    15    10\n",
       "1    [8, 9, 10]  1     8     9    10\n",
       "2     [5, 6, 7]  2     5     6     7\n",
       "3     [2, 3, 4]  3     2     3     4\n",
       "4     [4, 5, 6]  4     4     5     6\n",
       "5     [7, 8, 9]  5     7     8     9\n",
       "6     [1, 3, 2]  6     1     3     2"
      ]
     },
     "execution_count": 74,
     "metadata": {},
     "output_type": "execute_result"
    }
   ],
   "source": [
    "print dict_problem\n",
    "df_flight"
   ]
  },
  {
   "cell_type": "markdown",
   "metadata": {},
   "source": [
    "# Graph"
   ]
  },
  {
   "cell_type": "code",
   "execution_count": 75,
   "metadata": {},
   "outputs": [],
   "source": [
    "class Graph:\n",
    "\n",
    "    def __init__(self):\n",
    "        self.c = 0 #counter seen\n",
    "        self.A = int(dict_problem[\"A\"])\n",
    "        self.V = int(dict_problem[\"V\"])\n",
    "        self.am = []\n",
    "        self.seen = [False] * self.V # visité\n",
    "        self.am = [] * self.A # list of boolean a \\in Am \n",
    "        self.ta = [[] * self.V]*self.V #  ta cost (in days)\n",
    "        \n",
    "        self.depth = [0]*self.V\n",
    "        \n",
    "        self.adj = [] # adjacence\n",
    "        for i in range(self.V):\n",
    "            self.adj += [[]]\n",
    "\n",
    "        for index, row in df_arc.iterrows():\n",
    "            self.adj[row[\"o\"]] += [row[\"d\"]]\n",
    "        \n",
    "        \n",
    "    \n",
    "    def create():\n",
    "        print \"creer les données\"\n",
    "        \n",
    "\n",
    "    def dfs_recursive(self, graph, node, seen):\n",
    "        \"\"\"DFS, detect connected component, recursive implementation\n",
    "        :param graph: directed graph in listlist or listdict format\n",
    "        :param int node: to start graph exploration\n",
    "        :param boolean-table seen: will be set true for the connected component\n",
    "              containing node.\n",
    "        :complexity: `O(|V|+|E|)`\n",
    "        \"\"\"\n",
    "        #seen = [False]*self.V\n",
    "        seen[node] = True # visité\n",
    "        a = 0\n",
    "        \n",
    "        to_visit = []\n",
    "        for i in graph[node]:\n",
    "            if not seen[i]:\n",
    "                to_visit.append(i)\n",
    "        \n",
    "        for neighbor in to_visit: \n",
    "                a += 1 + self.dfs_recursive(graph, neighbor, seen)\n",
    "        return a / len(to_visit) if a > 0 else 0\n",
    "\n",
    "    \n",
    "    \n",
    "    def select_next_node(self, p, graph, node, seen, df_flight, df_arc):\n",
    "        neighbors = self.adj[node]\n",
    "        print \"N : \", node, \" : \",neighbors\n",
    "        \n",
    "        if len(neighbors) > 0:\n",
    "            nodes = []\n",
    "            \n",
    "            df_tmp = df_arc.merge(df_flight, how='inner', left_on='d', right_on='v')\n",
    "            df_tmp = df_tmp[df_tmp.o == node]\n",
    "            if df_tmp.shape[0] > 0:\n",
    "                seen2 = list(self.seen)\n",
    "                df_tmp['depth'] = df_tmp.apply(lambda x : g.dfs_recursive(self.adj, x.d, list(self.seen)), axis=1) \n",
    "                df_tmp['crit'] = df_tmp.apply(lambda x : (1.0*x.depth)/(x.n * x['C_P'+str(p)]+1), axis=1) #cost                               \n",
    "                #print df_tmp\n",
    "                next_node = int(df_tmp.sort_values(by=\"crit\", ascending=False).head(1).d) # selection du min(x) \n",
    "                print \"next : \", next_node\n",
    "                return next_node\n",
    "        \n",
    "        return -1\n",
    "\n",
    "\n",
    "    #graph = self.adj\n",
    "    def dfs_recursive_red(self, p, graph, node, seen, path):\n",
    "        \"\"\"DFS, detect connected component, recursive implementation\n",
    "        :param graph: directed graph in listlist or listdict format\n",
    "        :param int node: to start graph exploration\n",
    "        :param boolean-table seen: will be set true for the connected component\n",
    "              containing node.\n",
    "        :complexity: `O(|V|+|E|)`\n",
    "        \"\"\"\n",
    "        self.seen[node] = True # visité\n",
    "        #for neighbor in graph[node]:\n",
    "        neighbor = self.select_next_node(p, graph, node, self.seen, df_flight, df_arc) # TO test : prendre le noeud dont cvp*ta est minimal et non visité au lieu du for\n",
    "        print neighbor\n",
    "        self.c += 1 if self.seen[neighbor] else 0\n",
    "        print \"c : \", self.c\n",
    "        if neighbor >= 0 and self.c <= P/3:\n",
    "            if (self.seen[neighbor] and len(g.adj[neighbor]) > 0) or not self.seen[neighbor]:\n",
    "                path.append(neighbor) # add neighor dans le path \n",
    "                #if not self.seen[neighbor] and self.c <= P/3 :\n",
    "                self.dfs_recursive_red(p, graph, neighbor, seen, path) # to up\n",
    "        \n",
    "    \n",
    "    \n",
    "    def select_first_node(self, p, df_arc, df_flight):\n",
    "        \"\"\"\n",
    "        :nodes list de noeud\n",
    "        :p num avion\n",
    "        :df df_flight\n",
    "        \"\"\"\n",
    "        nodes = []\n",
    "        for i in range(len(self.seen)):\n",
    "            if not self.seen[i]:\n",
    "                nodes.append(i)\n",
    "                \n",
    "        print \"p : \", p, \" : \", nodes\n",
    "        \n",
    "        df_tmp = df_arc.merge(df_flight, how='inner', left_on='o', right_on='v')\n",
    "        \n",
    "        #print self.dfs_recursive( self.adj, 0, self.seen)\n",
    "        \n",
    "        df_tmp = df_tmp[df_tmp.o.isin(nodes)]  # not seen\n",
    "        if df_tmp.shape[0] > 0:\n",
    "            df_tmp2 = df_tmp[df_tmp.t == 0] #not_AM (if possible)\n",
    "            if df_tmp2.shape[0] > 0:\n",
    "                df_tmp = df_tmp2\n",
    "\n",
    "        seen2 = list(self.seen)\n",
    "        df_tmp['depth'] = df_tmp.apply(lambda x : self.dfs_recursive(g.adj, x.v, list(self.seen)) , axis=1) \n",
    "        #df_tmp['depth'] = df_tmp.apply(lambda x : len(self.adj[x.v]) , axis=1) \n",
    "        #print df_tmp        \n",
    "                \n",
    "        df_tmp['crit'] = df_tmp.apply(lambda x : (1.0*x.depth)/(x[\"C_P\"+str(p)]+1), axis=1)                                \n",
    "        df_tmp = df_tmp.sort_values(by=[\"crit\"], ascending=False)\n",
    "        print \"First node : \", int(df_tmp.head(1).v)\n",
    "        return int(df_tmp.head(1).v)\n",
    "        \n",
    "        \n",
    " "
   ]
  },
  {
   "cell_type": "code",
   "execution_count": null,
   "metadata": {},
   "outputs": [],
   "source": []
  },
  {
   "cell_type": "markdown",
   "metadata": {},
   "source": [
    "# Test greedy _red"
   ]
  },
  {
   "cell_type": "code",
   "execution_count": 76,
   "metadata": {},
   "outputs": [],
   "source": [
    "def greedy_red(P, g, df_flight, df_arc):\n",
    "    \"\"\"\n",
    "    :g graph\n",
    "    :P nb avions\n",
    "    \"\"\"\n",
    "    rotation = [[]]*P\n",
    "    for p in range(P):\n",
    "        path = []\n",
    "        node = g.select_first_node(p, df_arc, df_flight) # To TEST : select le premier noeud parmi les dispos, avec c_vp minimal\n",
    "        path = [node] # init path\n",
    "        g.dfs_recursive_red(p, g.adj, node, g.seen, path) # TO TEST\n",
    "        print \"path : \", path\n",
    "        rotation[p] = path\n",
    "    return rotation\n",
    "    \n",
    "   "
   ]
  },
  {
   "cell_type": "code",
   "execution_count": 77,
   "metadata": {},
   "outputs": [
    {
     "name": "stdout",
     "output_type": "stream",
     "text": [
      "p :  0  :  [0, 1, 2, 3, 4, 5, 6]\n",
      "First node :  1\n",
      "N :  1  :  [2, 3]\n",
      "next :  3\n",
      "3\n",
      "c :  0\n",
      "N :  3  :  [5, 6]\n",
      "next :  5\n",
      "5\n",
      "c :  0\n",
      "N :  5  :  []\n",
      "-1\n",
      "c :  0\n",
      "path :  [1, 3, 5]\n",
      "p :  1  :  [0, 2, 4, 6]\n",
      "First node :  4\n",
      "N :  4  :  [5, 6]\n",
      "next :  5\n",
      "5\n",
      "c :  1\n",
      "path :  [4]\n",
      "p :  2  :  [0, 2, 6]\n",
      "First node :  0\n",
      "N :  0  :  [2, 3]\n",
      "next :  3\n",
      "3\n",
      "c :  2\n",
      "path :  [0]\n",
      "Wall time: 369 ms\n"
     ]
    }
   ],
   "source": [
    "%%time\n",
    "g = Graph()\n",
    "rot = greedy_red(P, g, df_flight, df_arc)"
   ]
  },
  {
   "cell_type": "code",
   "execution_count": 78,
   "metadata": {},
   "outputs": [
    {
     "name": "stdout",
     "output_type": "stream",
     "text": [
      "[[1, 3, 5], [4], [0]]\n"
     ]
    }
   ],
   "source": [
    "print rot"
   ]
  },
  {
   "cell_type": "code",
   "execution_count": 19,
   "metadata": {},
   "outputs": [],
   "source": [
    "def init_solution():\n",
    "\n",
    "    # List of rotations\n",
    "    rotations = []\n",
    "    for i in range(dict_problem[\"P\"]):\n",
    "        rotations += [[]]\n",
    "    print(\"Rotation :\"+str(len(rotations)))\n",
    "    \n",
    "    # Flights and their assigned rotations\n",
    "    flights_rotations = []\n",
    "    for i in range(dict_problem[\"V\"]):\n",
    "        flights_rotations += [[]]\n",
    "    print(\"Flights :\"+str(len(flights_rotations)))\n",
    "    \n",
    "    return rotations, flights_rotations"
   ]
  },
  {
   "cell_type": "code",
   "execution_count": 20,
   "metadata": {},
   "outputs": [],
   "source": [
    "def greedySolution():\n",
    "\n",
    "    for r in range(dict_problem[\"P\"]):\n",
    "        for f in range(dict_problem[\"V\"]):\n",
    "            #print(\"f: \" + str(f))\n",
    "            if len(flights_rotations[f]) > 0:\n",
    "                continue\n",
    "            else:\n",
    "                next_flight = f\n",
    "\n",
    "                while next_flight is not None:\n",
    "                    current_flight = next_flight\n",
    "                    flights_rotations[current_flight] += [r]\n",
    "                    rotations[r] += [current_flight]\n",
    "\n",
    "                    next_flight = None\n",
    "                    for neighb in graph.adj[current_flight]:\n",
    "                        if len(flights_rotations[neighb]) == 0:\n",
    "                            next_flight = neighb\n",
    "                            break # we found the next flight\n",
    "                break # finish the rotation\n",
    "    return"
   ]
  },
  {
   "cell_type": "code",
   "execution_count": 21,
   "metadata": {},
   "outputs": [
    {
     "name": "stdout",
     "output_type": "stream",
     "text": [
      "Rotation :3\n",
      "Flights :7\n"
     ]
    }
   ],
   "source": [
    "graph = Graph()\n",
    "\n",
    "rotations, flights_rotations = init_solution()\n",
    "\n",
    "greedySolution()\n",
    "#rotations = greedy_red(P, g, df_flight, df_arc)"
   ]
  },
  {
   "cell_type": "markdown",
   "metadata": {},
   "source": [
    "## Cost function"
   ]
  },
  {
   "cell_type": "code",
   "execution_count": 22,
   "metadata": {},
   "outputs": [],
   "source": [
    "assignment_cost = 0\n",
    "for fr in flights_rotations:\n",
    "    assignment_cost += dict_problem[\"B\"] * abs(len(fr) - 1)"
   ]
  },
  {
   "cell_type": "code",
   "execution_count": 23,
   "metadata": {},
   "outputs": [
    {
     "data": {
      "text/plain": [
       "0"
      ]
     },
     "execution_count": 23,
     "metadata": {},
     "output_type": "execute_result"
    }
   ],
   "source": [
    "assignment_cost"
   ]
  },
  {
   "cell_type": "code",
   "execution_count": 24,
   "metadata": {},
   "outputs": [],
   "source": [
    "V_maintenance = [] * P"
   ]
  },
  {
   "cell_type": "code",
   "execution_count": 25,
   "metadata": {},
   "outputs": [
    {
     "ename": "AttributeError",
     "evalue": "Graph instance has no attribute 'cost'",
     "output_type": "error",
     "traceback": [
      "\u001b[1;31m\u001b[0m",
      "\u001b[1;31mAttributeError\u001b[0mTraceback (most recent call last)",
      "\u001b[1;32m<ipython-input-25-bdc2add23dd6>\u001b[0m in \u001b[0;36m<module>\u001b[1;34m()\u001b[0m\n\u001b[0;32m      2\u001b[0m \u001b[1;32mfor\u001b[0m \u001b[0mr\u001b[0m \u001b[1;32min\u001b[0m \u001b[0mrotations\u001b[0m\u001b[1;33m:\u001b[0m\u001b[1;33m\u001b[0m\u001b[0m\n\u001b[0;32m      3\u001b[0m     \u001b[1;32mfor\u001b[0m \u001b[0mf\u001b[0m \u001b[1;32min\u001b[0m \u001b[0mr\u001b[0m\u001b[1;33m:\u001b[0m\u001b[1;33m\u001b[0m\u001b[0m\n\u001b[1;32m----> 4\u001b[1;33m         \u001b[0mope_cost\u001b[0m \u001b[1;33m+=\u001b[0m \u001b[0mgraph\u001b[0m\u001b[1;33m.\u001b[0m\u001b[0mcost\u001b[0m\u001b[1;33m[\u001b[0m\u001b[0mf\u001b[0m\u001b[1;33m]\u001b[0m\u001b[1;33m\u001b[0m\u001b[0m\n\u001b[0m",
      "\u001b[1;31mAttributeError\u001b[0m: Graph instance has no attribute 'cost'"
     ]
    }
   ],
   "source": [
    "ope_cost = 0\n",
    "for r in rotations:\n",
    "    for f in r:\n",
    "        ope_cost += graph.cost[f]"
   ]
  },
  {
   "cell_type": "code",
   "execution_count": null,
   "metadata": {},
   "outputs": [],
   "source": [
    "maintenance_cost = 0"
   ]
  },
  {
   "cell_type": "code",
   "execution_count": 35,
   "metadata": {},
   "outputs": [],
   "source": [
    "maintenance_cost += dict_problem[\"G\"] * sum(V_maintenance)"
   ]
  },
  {
   "cell_type": "markdown",
   "metadata": {},
   "source": [
    "## Output"
   ]
  },
  {
   "cell_type": "code",
   "execution_count": 79,
   "metadata": {},
   "outputs": [],
   "source": [
    "OUTPUT_FILE_NAME = \"output_\"+instance+\"_after.dat\"\n",
    "rotations = rot"
   ]
  },
  {
   "cell_type": "code",
   "execution_count": 80,
   "metadata": {},
   "outputs": [],
   "source": [
    "with open(OUTPUT_FILE_NAME, \"w\") as output_file:\n",
    "    for r_i, r in enumerate(rotations):\n",
    "        output_file.write(\"p \" + str(r_i+1) + \" a\")\n",
    "        for flight_num in r:\n",
    "            output_file.write(\" \" + str(flight_num+1))\n",
    "        output_file.write(\"\\n\")\n",
    "        \n"
   ]
  },
  {
   "cell_type": "code",
   "execution_count": null,
   "metadata": {},
   "outputs": [],
   "source": []
  }
 ],
 "metadata": {
  "kernelspec": {
   "display_name": "Python 2",
   "language": "python",
   "name": "python2"
  },
  "language_info": {
   "codemirror_mode": {
    "name": "ipython",
    "version": 2
   },
   "file_extension": ".py",
   "mimetype": "text/x-python",
   "name": "python",
   "nbconvert_exporter": "python",
   "pygments_lexer": "ipython2",
   "version": "2.7.5"
  }
 },
 "nbformat": 4,
 "nbformat_minor": 2
}
